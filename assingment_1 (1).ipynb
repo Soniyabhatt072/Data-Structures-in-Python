{
  "cells": [
    {
      "cell_type": "markdown",
      "metadata": {
        "id": "I3Fa8zZslj3B"
      },
      "source": [
        "#**Data Structures in Python**"
      ]
    },
    {
      "cell_type": "code",
      "execution_count": null,
      "metadata": {
        "id": "3OFPNeM_lfZR",
        "colab": {
          "base_uri": "https://localhost:8080/"
        },
        "outputId": "2950ca74-eff4-461f-ebf4-bf5ce514fee8"
      },
      "outputs": [
        {
          "output_type": "stream",
          "name": "stdout",
          "text": [
            "write string:Soniya\n",
            "ayinoS\n"
          ]
        }
      ],
      "source": [
        " #1.Write a code to reverse a string.\n",
        "       # slicing\n",
        "def reverse_string(s):\n",
        "  return s[::-1]\n",
        "s= input (\"write string:\")\n",
        "print(reverse_string(s))"
      ]
    },
    {
      "cell_type": "code",
      "execution_count": null,
      "metadata": {
        "id": "8yUQYut0nsO0",
        "colab": {
          "base_uri": "https://localhost:8080/"
        },
        "outputId": "4782135e-52ce-4195-adc7-1c28241501af"
      },
      "outputs": [
        {
          "output_type": "stream",
          "name": "stdout",
          "text": [
            "string:i am soniya , i live in india\n",
            "number of vowels: 12\n"
          ]
        }
      ],
      "source": [
        " #2.Write a code to count the number of vowels in a string.\n",
        "         # using for loop\n",
        "vowels=\"aeiou\"\n",
        "s=input('string:')\n",
        "\n",
        "count =0\n",
        "for char in s.lower():\n",
        "  if char in vowels:\n",
        "    count+=1\n",
        "print(\"number of vowels:\", count)"
      ]
    },
    {
      "cell_type": "code",
      "execution_count": null,
      "metadata": {
        "id": "yyaDdIIVqVJF",
        "colab": {
          "base_uri": "https://localhost:8080/"
        },
        "outputId": "43e8f590-5f73-4283-eb3d-137560254e43"
      },
      "outputs": [
        {
          "output_type": "stream",
          "name": "stdout",
          "text": [
            "enter here 12321\n",
            "num is palindrome\n"
          ]
        }
      ],
      "source": [
        "#3.Write a code to check if a given string is a palindrome or not\n",
        "num=input('enter here ')\n",
        "if num == num[::-1]:\n",
        "  print('num is palindrome')\n",
        "else:\n",
        "  print('num is not palindrome')"
      ]
    },
    {
      "cell_type": "code",
      "execution_count": null,
      "metadata": {
        "id": "xoP9rwdVqm98",
        "colab": {
          "base_uri": "https://localhost:8080/"
        },
        "outputId": "7b6681c4-c525-4b94-b6d3-4594fa95677e"
      },
      "outputs": [
        {
          "output_type": "stream",
          "name": "stdout",
          "text": [
            "enter 1listen\n",
            "enter 2silent\n",
            " anagrams\n"
          ]
        }
      ],
      "source": [
        "#4.Write a code to check if two given strings are anagrams of each other\n",
        "str1=input('enter 1')\n",
        "str2=input('enter 2')\n",
        "if sorted(str1)==sorted(str2):\n",
        "  print(' anagrams')\n",
        "else:\n",
        "  print(' not anagrams')"
      ]
    },
    {
      "cell_type": "code",
      "execution_count": null,
      "metadata": {
        "id": "izAuQFcBqVVm",
        "colab": {
          "base_uri": "https://localhost:8080/"
        },
        "outputId": "1332a039-b661-4979-8ae6-ba5d7d17bd15"
      },
      "outputs": [
        {
          "output_type": "stream",
          "name": "stdout",
          "text": [
            "[27, 37]\n"
          ]
        }
      ],
      "source": [
        "#5.write a code to find all occurences of a given substring within another string\n",
        "def find_substr(str,substr):\n",
        "  index= str.find(substr)\n",
        "  occurence=[]\n",
        "  while index !=-1:\n",
        "    occurence.append (index)\n",
        "    index=str.find(substr,index+1)\n",
        "  return occurence\n",
        "print(find_substr(\"my name is siya, i am from delhi, in delhi i work as data scientist\",\"delhi\" ))"
      ]
    },
    {
      "cell_type": "code",
      "execution_count": null,
      "metadata": {
        "id": "hoTMgmf_wGoB",
        "colab": {
          "base_uri": "https://localhost:8080/"
        },
        "outputId": "6f0208f3-aff8-4dbd-9a5a-8dc784fbadc0"
      },
      "outputs": [
        {
          "output_type": "stream",
          "name": "stdout",
          "text": [
            "enter string:ssaaddfff\n",
            "s2a2d2f3\n"
          ]
        }
      ],
      "source": [
        "#6.write a code to perform basic string compression using the counts of repeated characters.\n",
        "s=input('enter string:')\n",
        "def str_compression(s):\n",
        "  compressed=\"\"\n",
        "  count=1\n",
        "  for i in range(1,len(s)):\n",
        "    if s[i]==s[i-1]: # index compared to previous index\n",
        "      count+=1\n",
        "    else:\n",
        "      compressed+=s[i-1]+str(count)\n",
        "      count=1\n",
        "  compressed+=s[-1]+str(count)\n",
        "  return compressed\n",
        "print(str_compression(s))"
      ]
    },
    {
      "cell_type": "code",
      "execution_count": null,
      "metadata": {
        "id": "o8GxpkV3wGrq",
        "colab": {
          "base_uri": "https://localhost:8080/"
        },
        "outputId": "5653b4c6-2e55-40e1-b805-c57cfab79447"
      },
      "outputs": [
        {
          "output_type": "stream",
          "name": "stdout",
          "text": [
            "enter string:soniya\n",
            "string has all unique characters:  True\n"
          ]
        }
      ],
      "source": [
        "#7.Write a code to determine if a string has all unique characters\n",
        "s=input('enter string:')\n",
        "def uni_chars(s):\n",
        "  return len(set(s))==len(s)\n",
        "print(\"string has all unique characters: \",uni_chars(s))"
      ]
    },
    {
      "cell_type": "code",
      "execution_count": null,
      "metadata": {
        "id": "ZC_TrZ2mwGvG",
        "colab": {
          "base_uri": "https://localhost:8080/"
        },
        "outputId": "dd702ed7-99d5-407d-d0bd-69f7f7133021"
      },
      "outputs": [
        {
          "output_type": "stream",
          "name": "stdout",
          "text": [
            "enter string:soniya\n",
            "SONIYA\n",
            "soniya\n"
          ]
        }
      ],
      "source": [
        "#8.Write a code to convert a given string to uppercase or lowercase\n",
        "s=input('enter string:')\n",
        "def uppercase(s):\n",
        "  return s.upper()\n",
        "print(uppercase(s))\n",
        "def lowercase(s):\n",
        "  return s.lower()\n",
        "print(lowercase(s))"
      ]
    },
    {
      "cell_type": "code",
      "execution_count": null,
      "metadata": {
        "id": "KXDDlqsMwGy3",
        "colab": {
          "base_uri": "https://localhost:8080/"
        },
        "outputId": "c091e0e1-f068-4486-e0b2-7d853302f602"
      },
      "outputs": [
        {
          "output_type": "stream",
          "name": "stdout",
          "text": [
            "enter string:Physics wallah is offering new courses\n",
            "6\n"
          ]
        }
      ],
      "source": [
        "#9.Write a code to count the number of words in a string\n",
        "s=input('enter string:')\n",
        "def count_words(s):\n",
        "  words=s.split()\n",
        "  return len(words)\n",
        "\n",
        "print(count_words(s))"
      ]
    },
    {
      "cell_type": "code",
      "execution_count": null,
      "metadata": {
        "id": "794wWOZYq8CW",
        "colab": {
          "base_uri": "https://localhost:8080/"
        },
        "outputId": "3751ff0c-942c-4641-bfd3-192e758d638a"
      },
      "outputs": [
        {
          "output_type": "stream",
          "name": "stdout",
          "text": [
            "enter string:Pw is good\n",
            "enter string:platform for skills learning\n",
            "concatenate_str(s1,s2): Pw is goodplatform for skills learning\n"
          ]
        }
      ],
      "source": [
        "#10.write a code to concatenate two strings without using + operator.\n",
        "s1=input('enter string:')\n",
        "s2=input('enter string:')\n",
        "def concatenate_str(s1,s2):\n",
        "  return f\"{s1}{s2}\"\n",
        "s=concatenate_str(s1,s2)\n",
        "print(\"concatenate_str(s1,s2):\",s)"
      ]
    },
    {
      "cell_type": "code",
      "execution_count": null,
      "metadata": {
        "id": "2lV1xk0prHn5",
        "colab": {
          "base_uri": "https://localhost:8080/"
        },
        "outputId": "a458a8e9-ac1a-4957-bf7c-a424a642a1e3"
      },
      "outputs": [
        {
          "output_type": "stream",
          "name": "stdout",
          "text": [
            "list after removal: [76, 43, 98]\n"
          ]
        }
      ],
      "source": [
        "#11.Write a code to remove all occurrences of a specific element from a list\n",
        "# list comprehension\n",
        "lst = [32,76,43,98,32,32]\n",
        "elem= 32\n",
        "lst = [x for x in lst if x !=elem]\n",
        "print (\"list after removal:\", lst)"
      ]
    },
    {
      "cell_type": "code",
      "execution_count": null,
      "metadata": {
        "id": "gC82cYWGrHvY",
        "colab": {
          "base_uri": "https://localhost:8080/"
        },
        "outputId": "0ed3ed4d-ae26-4f9b-b6b2-24b243642fc3"
      },
      "outputs": [
        {
          "output_type": "stream",
          "name": "stdout",
          "text": [
            "enter list:23 34 32 54 65 21 32\n",
            "second largest number in list: 54\n"
          ]
        }
      ],
      "source": [
        "#12.Implement a code to find the second largest number in a given list of integers\n",
        "lst=input(\"enter list:\").split() # while entering list give space between\n",
        "lst.sort()\n",
        "sec_larg=lst[-2]\n",
        "print(\"second largest number in list:\",sec_larg)"
      ]
    },
    {
      "cell_type": "code",
      "execution_count": null,
      "metadata": {
        "id": "vCR3YCNgrH0Q",
        "colab": {
          "base_uri": "https://localhost:8080/"
        },
        "outputId": "74fffe5a-17fb-445a-bc0d-24cba2823ee8"
      },
      "outputs": [
        {
          "output_type": "stream",
          "name": "stdout",
          "text": [
            "Enter list : 23 34 12 21 32 43 54 23 34 34 12 12 12 12\n",
            "{'23': 2, '34': 3, '12': 5, '21': 1, '32': 1, '43': 1, '54': 1}\n"
          ]
        }
      ],
      "source": [
        "#13.Create a code to count the occurrences of each element in a list and return a dictionary with elements as keys and their counts as values\n",
        "lst = input(\"Enter list : \").split()\n",
        "def count_occ(lst):\n",
        "    counts = {}  # Ek khali dictionary banayi\n",
        "    for element in lst:  # List ke har element ke liye loop chalayenge\n",
        "        if element in counts:  # Agar element pehle se dictionary mein hai\n",
        "            counts[element] += 1  # Uski count ko 1 se badhao\n",
        "        else:\n",
        "            counts[element] = 1  # Nahi toh us element ki count ko 1 set karo\n",
        "    return counts\n",
        "result = count_occ(lst)\n",
        "print(result)"
      ]
    },
    {
      "cell_type": "code",
      "execution_count": null,
      "metadata": {
        "id": "jUJPiSyFrH4D",
        "colab": {
          "base_uri": "https://localhost:8080/"
        },
        "outputId": "d76b6553-eb68-43f6-8f1e-4a11b0cf7dcf"
      },
      "outputs": [
        {
          "output_type": "stream",
          "name": "stdout",
          "text": [
            "Enter: 23 34 32 54 65 21 32\n",
            "['32', '21', '65', '54', '32', '34', '23']\n"
          ]
        }
      ],
      "source": [
        "#14.Write a code to reverse a list in-place without using any built-in reverse functions\n",
        "lst = input(\"Enter: \").split()\n",
        "def reverse_lst(lst):\n",
        "    left = 0\n",
        "    right = len(lst) - 1\n",
        "    while left < right:\n",
        "        lst[left], lst[right] = lst[right], lst[left]\n",
        "        left += 1\n",
        "        right -= 1\n",
        "reverse_lst(lst)\n",
        "print(lst)"
      ]
    },
    {
      "cell_type": "code",
      "source": [
        "#15.implement a code to find and remove duplicates from a list while preserving the original order of elements\n",
        "lst=input('enter:').split()\n",
        "seen=set()\n",
        "lst=[x for x in lst if x not in seen and not seen.add(x)]\n",
        "print (\"list after removal:\", lst)"
      ],
      "metadata": {
        "id": "yRayOrFMe9vt",
        "colab": {
          "base_uri": "https://localhost:8080/"
        },
        "outputId": "92f70f7a-14d0-465d-f53d-df6ba6d98719"
      },
      "execution_count": null,
      "outputs": [
        {
          "output_type": "stream",
          "name": "stdout",
          "text": [
            "enter:23 34 32 54 65 21 32\n",
            "list after removal: ['23', '34', '32', '54', '65', '21']\n"
          ]
        }
      ]
    },
    {
      "cell_type": "code",
      "source": [
        "#16.Create a code to check if a given list is sorted (either in ascending or descending order) or not\n",
        "def is_sorted(lst):\n",
        "    if lst == sorted(lst):\n",
        "        return \"The list is sorted in ascending order.\"\n",
        "    elif lst == sorted(lst, reverse=True):\n",
        "        return \"The list is sorted in descending order.\"\n",
        "    else:\n",
        "        return \"The list is not sorted.\"\n",
        "test_list = [3, 5, 7, 9, 11]\n",
        "result = is_sorted(test_list)\n",
        "print(result)"
      ],
      "metadata": {
        "id": "iPV89ftu3yyL",
        "colab": {
          "base_uri": "https://localhost:8080/"
        },
        "outputId": "b53ed7c9-470d-4dd6-a9e7-66dae938fc65"
      },
      "execution_count": null,
      "outputs": [
        {
          "output_type": "stream",
          "name": "stdout",
          "text": [
            "The list is sorted in ascending order.\n"
          ]
        }
      ]
    },
    {
      "cell_type": "code",
      "execution_count": null,
      "metadata": {
        "id": "hjUxxkFBrIGe",
        "colab": {
          "base_uri": "https://localhost:8080/"
        },
        "outputId": "d9cd4369-2aae-43e4-c166-86f46be5acab"
      },
      "outputs": [
        {
          "output_type": "stream",
          "name": "stdout",
          "text": [
            "[1, 2, 3, 4, 4, 5, 5, 6, 7, 8]\n"
          ]
        }
      ],
      "source": [
        "#17.Write a code to merge two sorted lists into a single sorted list\n",
        "list1 = [1, 2, 3, 4, 5]\n",
        "list2 = [4, 5, 6, 7, 8]\n",
        "def merge_shorted_list(list1,list2):\n",
        "  merge_list=list1+list2\n",
        "  merge_list.sort()\n",
        "  return merge_list\n",
        "print(merge_shorted_list(list1,list2))"
      ]
    },
    {
      "cell_type": "code",
      "execution_count": null,
      "metadata": {
        "id": "InBgwZEzrMcU",
        "colab": {
          "base_uri": "https://localhost:8080/"
        },
        "outputId": "d89cb394-d636-4e00-c2ca-a6ce37341edf"
      },
      "outputs": [
        {
          "output_type": "stream",
          "name": "stdout",
          "text": [
            "Intersection of the lists: [4, 5]\n"
          ]
        }
      ],
      "source": [
        "#18.Implement a code to find the intersection of two given lists\n",
        "def find_intersection(list1, list2):\n",
        "    return [x for x in list1 if x in list2]\n",
        "\n",
        "list1 = [1, 2, 3, 4, 5]\n",
        "list2 = [4, 5, 6, 7, 8]\n",
        "print(\"Intersection of the lists:\", find_intersection(list1, list2))"
      ]
    },
    {
      "cell_type": "code",
      "execution_count": null,
      "metadata": {
        "id": "WNaO8DGXrMj2",
        "colab": {
          "base_uri": "https://localhost:8080/"
        },
        "outputId": "d700d15b-9a3a-4e19-92df-c81c0d839eba"
      },
      "outputs": [
        {
          "output_type": "stream",
          "name": "stdout",
          "text": [
            "Intersection of the lists: [1, 2, 3, 4, 5, 6, 7, 8]\n"
          ]
        }
      ],
      "source": [
        "#19.Create a code to find the union of two lists without duplicates\n",
        "def find_unique(list1, list2):\n",
        "    return list(set([x for x in list1 +list2 ]))\n",
        "list1 = [1, 2, 3, 4, 5]\n",
        "list2 = [4, 5, 6, 7, 8]\n",
        "intersection = find_unique(list1, list2)\n",
        "print(\"Intersection of the lists:\", intersection)"
      ]
    },
    {
      "cell_type": "code",
      "source": [
        "#20.Write a code to shuffle a given list randomly without using any built-in shuffle functions\n",
        "import random\n",
        "def shuffle_list(lst):\n",
        "    shuffled_lst = lst[:]  # copy of the original list\n",
        "    for i in range(len(shuffled_lst)):\n",
        "        rand_index = random.randint(0, len(shuffled_lst) - 1)\n",
        "        # Swap\n",
        "        shuffled_lst[i], shuffled_lst[rand_index] = shuffled_lst[rand_index], shuffled_lst[i]\n",
        "        return shuffled_lst\n",
        "original_list = [1, 2, 3, 4, 5]\n",
        "shuffled_list = shuffle_list(original_list)\n",
        "print(\"Original list:\", original_list)\n",
        "print(\"Shuffled list:\", shuffled_list)"
      ],
      "metadata": {
        "id": "hjiMNE_fv0Ir",
        "colab": {
          "base_uri": "https://localhost:8080/"
        },
        "outputId": "a26b97b4-3d0a-4a62-fa29-ff7525d264f3"
      },
      "execution_count": null,
      "outputs": [
        {
          "output_type": "stream",
          "name": "stdout",
          "text": [
            "Original list: [1, 2, 3, 4, 5]\n",
            "Shuffled list: [5, 2, 3, 4, 1]\n"
          ]
        }
      ]
    },
    {
      "cell_type": "code",
      "source": [
        "#21. Write a code that takes two tuples as input and returns a new tuple containing elements common to both input tuples\n",
        "\n",
        "tuple1 = tuple(map(int, input(\"Enter first tuple (space-separated): \").split()))\n",
        "tuple2 = tuple(map(int, input(\"Enter second tuple (space-separated): \").split()))\n",
        "\n",
        "# Find intersection\n",
        "common_elements = tuple(set(tuple1).intersection(set(tuple2)))\n",
        "print(\"Common Elements in both Tuple:\", common_elements)"
      ],
      "metadata": {
        "id": "rurlz-qVXijx",
        "colab": {
          "base_uri": "https://localhost:8080/"
        },
        "outputId": "2dd3249b-7876-4009-c33a-d9b6e8e334ff"
      },
      "execution_count": null,
      "outputs": [
        {
          "output_type": "stream",
          "name": "stdout",
          "text": [
            "Enter first tuple (space-separated): 23 34 32 54 65 21 32\n",
            "Enter second tuple (space-separated):  32 54 65 21 76 86 65\n",
            "Common Elements in both Tuple: (32, 65, 21, 54)\n"
          ]
        }
      ]
    },
    {
      "cell_type": "code",
      "execution_count": null,
      "metadata": {
        "id": "OEJbMfoI4sdd",
        "colab": {
          "base_uri": "https://localhost:8080/"
        },
        "outputId": "6c5a573a-446e-499e-8610-8a0a386e0003"
      },
      "outputs": [
        {
          "output_type": "stream",
          "name": "stdout",
          "text": [
            "Enter the first set of integers (separated by commas): 12,3,4,5,6,7,8\n",
            "Enter the second set of integers (separated by commas): 32,43,54,65,7,8,9\n",
            "The intersection of the two sets is: {8, 7}\n"
          ]
        }
      ],
      "source": [
        "#22.Create a code that prompts the user to enter two sets of integers separated by commas.\n",
        "#   Then, print the intersection of these two sets\n",
        "\n",
        "set1 = input(\"Enter the first set of integers (separated by commas): \")\n",
        "set2 = input(\"Enter the second set of integers (separated by commas): \")\n",
        "\n",
        "# Convert input strings to sets of integers\n",
        "set1 = set(map(int, set1.split(',')))\n",
        "set2 = set(map(int, set2.split(',')))\n",
        "\n",
        "intersection = set1 & set2\n",
        "print(\"The intersection of the two sets is:\", intersection)\n"
      ]
    },
    {
      "cell_type": "code",
      "execution_count": null,
      "metadata": {
        "id": "eyGr8X7j4shY",
        "colab": {
          "base_uri": "https://localhost:8080/"
        },
        "outputId": "1a456d65-0303-4ee7-c75d-7090a7591d8d"
      },
      "outputs": [
        {
          "output_type": "stream",
          "name": "stdout",
          "text": [
            "Concatenated Tuple: (1, 2, 3, 4, 5, 6)\n"
          ]
        }
      ],
      "source": [
        "#23.Write a code to concatenate two tuples. The function should take two tuples as input and return a new tuple containing\n",
        "#elements from both input tuples.\n",
        "def concatenate_tuples(tuple1, tuple2):\n",
        "    return tuple1 + tuple2\n",
        "tuple1 = (1, 2, 3)\n",
        "tuple2 = (4, 5, 6)\n",
        "result = concatenate_tuples(tuple1, tuple2)\n",
        "print(\"Concatenated Tuple:\", result)\n"
      ]
    },
    {
      "cell_type": "code",
      "execution_count": null,
      "metadata": {
        "id": "XvOC-XUU4smf",
        "colab": {
          "base_uri": "https://localhost:8080/"
        },
        "outputId": "40e5dfab-0109-4596-a2b4-615b1f32b9f5"
      },
      "outputs": [
        {
          "output_type": "stream",
          "name": "stdout",
          "text": [
            "Enter the first set of strings (separated by commas): hi,hello,when,where\n",
            "Enter the second set of strings (separated by commas): where\n",
            "Elements in the first set but not in the second set: {'hello', 'hi', 'when'}\n"
          ]
        }
      ],
      "source": [
        "#24.Develop a code that prompts the user to input two sets of strings. Then, print the elements that are present in the first\n",
        "#set but not in the second set..\n",
        "\n",
        "set1 = set(input(\"Enter the first set of strings (separated by commas): \").split(','))\n",
        "set2 = set(input(\"Enter the second set of strings (separated by commas): \").split(','))\n",
        "\n",
        "difference = set1 - set2\n",
        "print(\"Elements in the first set but not in the second set:\", difference)"
      ]
    },
    {
      "cell_type": "code",
      "execution_count": null,
      "metadata": {
        "id": "hjLLZvGq4spq",
        "colab": {
          "base_uri": "https://localhost:8080/"
        },
        "outputId": "63a17845-ea71-427a-8130-174c67828cfb"
      },
      "outputs": [
        {
          "output_type": "stream",
          "name": "stdout",
          "text": [
            "Enter tuple (space-separated): 23 34 32 54 65 21 32\n",
            "enter start:2\n",
            "enter end:6\n",
            "Extracted tuple: (32, 54, 65, 21, 32)\n"
          ]
        }
      ],
      "source": [
        "#25.Create a code that takes a tuple and two integers as input. The function should return a new tuple containing elements from the original tuple within the specified range of indices\n",
        "def extract_range_from_tuple(tpl, start, end):\n",
        "    return tpl[start:end + 1]\n",
        "original_tuple =tuple(map(int, input(\"Enter tuple (space-separated): \").split()))\n",
        "start_index =int(input(\"enter start:\"))\n",
        "end_index = int(input(\"enter end:\"))\n",
        "result = extract_range_from_tuple(original_tuple, start_index, end_index)\n",
        "print(\"Extracted tuple:\", result)"
      ]
    },
    {
      "cell_type": "code",
      "execution_count": null,
      "metadata": {
        "id": "3P7MgL2T4ssn",
        "colab": {
          "base_uri": "https://localhost:8080/"
        },
        "outputId": "13eec85e-d23a-4296-f8f3-a16300ccf92c"
      },
      "outputs": [
        {
          "output_type": "stream",
          "name": "stdout",
          "text": [
            "Enter the first set of characters (separated by commas): 12,3,4,5,6,7,8\n",
            "Enter the second set of characters (separated by commas): 32,43,54,65,7,8,9\n",
            "The union of the two sets is: {'32', '3', '9', '4', '54', '5', '12', '8', '65', '7', '43', '6'}\n"
          ]
        }
      ],
      "source": [
        "#26.Write a code that prompts the user to input two sets of characters. Then print the union of these two sets\n",
        "set1 = set(input(\"Enter the first set of characters (separated by commas): \").split(','))\n",
        "set2 = set(input(\"Enter the second set of characters (separated by commas): \").split(','))\n",
        "\n",
        "union = set1 | set2\n",
        "print(\"The union of the two sets is:\", union)"
      ]
    },
    {
      "cell_type": "code",
      "execution_count": null,
      "metadata": {
        "id": "rDrExU_p4sx-",
        "colab": {
          "base_uri": "https://localhost:8080/"
        },
        "outputId": "f7a8553d-fbe4-4e82-ecfd-775ddd822ecb"
      },
      "outputs": [
        {
          "output_type": "stream",
          "name": "stdout",
          "text": [
            "Enter a tuple of integers (separated by commas): 32,43,54,65,7,8,9\n",
            "max,min: (65, 7)\n"
          ]
        }
      ],
      "source": [
        "#27.Develop a code that takes a tuple of integers as input. The function should return the maximum and minimum values from the tuple using tuple unpacking\n",
        "def find_max_min(input_tuple):\n",
        "    max_value = max(input_tuple)\n",
        "    min_value= min(input_tuple)\n",
        "    return max_value, min_value\n",
        "\n",
        "input_tuple = tuple(map(int, input(\"Enter a tuple of integers (separated by commas): \").split(',')))\n",
        "print(\"max,min:\",find_max_min(input_tuple))"
      ]
    },
    {
      "cell_type": "code",
      "source": [
        "#28.Create a code that defines two sets of integers. Then, print the union, intersection, and difference of these two sets\n",
        "\n",
        "set1 = set(map(int, input(\"Enter elements of the first set (space-separated): \").split()))\n",
        "set2 = set(map(int, input(\"Enter elements of the second set (space-separated): \").split()))\n",
        "\n",
        "union_set = set1.union(set2)\n",
        "intersection_set = set1.intersection(set2)\n",
        "difference_set = set1.difference(set2)\n",
        "\n",
        "print(\"Union:\", union_set)\n",
        "print(\"Intersection:\", intersection_set)\n",
        "print(\"Difference (Set 1 - Set 2):\", difference_set)\n"
      ],
      "metadata": {
        "id": "By94CddrYS_q",
        "colab": {
          "base_uri": "https://localhost:8080/"
        },
        "outputId": "17109f6a-c575-4a51-ae01-93553ff8c5d2"
      },
      "execution_count": null,
      "outputs": [
        {
          "output_type": "stream",
          "name": "stdout",
          "text": [
            "Enter elements of the first set (space-separated): 23 34 32 54 65 21 32\n",
            "Enter elements of the second set (space-separated): 32 54 65 21 76 86 65\n",
            "Union: {32, 65, 34, 76, 21, 54, 23, 86}\n",
            "Intersection: {32, 65, 21, 54}\n",
            "Difference (Set 1 - Set 2): {34, 23}\n"
          ]
        }
      ]
    },
    {
      "cell_type": "code",
      "execution_count": null,
      "metadata": {
        "id": "vRbesqM04s1H",
        "colab": {
          "base_uri": "https://localhost:8080/"
        },
        "outputId": "eb144ee2-7ab6-4fe9-a8a1-426dbe14d1e2"
      },
      "outputs": [
        {
          "output_type": "stream",
          "name": "stdout",
          "text": [
            "Enter a tuple of integers (separated by commas): 32,43,54,65,7,8,9\n",
            "Enter the element to count: 32\n",
            "The element 32 occurs 1 times in the tuple.\n"
          ]
        }
      ],
      "source": [
        "#29.Write a code that takes a tuple and an element as input. The function should return the count of occurrences of the given element in the tuple\n",
        "def count_occurrences(input_tuple, element):\n",
        "    return input_tuple.count(element)\n",
        "\n",
        "input_tuple = tuple(map(int, input(\"Enter a tuple of integers (separated by commas): \").split(',')))\n",
        "element = int(input(\"Enter the element to count: \"))\n",
        "\n",
        "count = count_occurrences(input_tuple, element)\n",
        "\n",
        "print(f\"The element {element} occurs {count} times in the tuple.\")\n"
      ]
    },
    {
      "cell_type": "code",
      "execution_count": null,
      "metadata": {
        "id": "RXFzuXh-4s9d",
        "colab": {
          "base_uri": "https://localhost:8080/"
        },
        "outputId": "e1c9544d-55cb-4dbf-9031-2174ad9b214d"
      },
      "outputs": [
        {
          "output_type": "stream",
          "name": "stdout",
          "text": [
            "Enter the first set of characters (separated by commas):  32,43,54,65,7,8,9\n",
            "Enter the second set of characters (separated by commas): 12,3,4,5,6,7,8\n",
            "The symmetric difference of the two sets is: {'3', '9', '12', ' 32', '6', '4', '54', '5', '65', '43'}\n"
          ]
        }
      ],
      "source": [
        "#30.Develop a code that prompts the user to input two sets of strings. Then, print the symmetric difference of these two sets\n",
        "set1 = set(input(\"Enter the first set of characters (separated by commas): \").split(','))\n",
        "set2 = set(input(\"Enter the second set of characters (separated by commas): \").split(','))\n",
        "\n",
        "symmetric_diff = set1 ^ set2\n",
        "\n",
        "print(\"The symmetric difference of the two sets is:\", symmetric_diff)\n"
      ]
    },
    {
      "cell_type": "code",
      "execution_count": 1,
      "metadata": {
        "id": "h2mRKjux4tA0",
        "colab": {
          "base_uri": "https://localhost:8080/"
        },
        "outputId": "aedae7b3-46b5-4099-ef6c-2ec1c731b0de"
      },
      "outputs": [
        {
          "output_type": "stream",
          "name": "stdout",
          "text": [
            "Enter a list of words (separated by spaces): soniya delhi soniya delhi sun sun sun delhi delhi\n",
            "Word frequencies: {'soniya': 2, 'delhi': 4, 'sun': 3}\n"
          ]
        }
      ],
      "source": [
        "#31.Write a code that takes a list of words as input and returns a dictionary where the keys are unique words and the values are the frequencies of those words in the input list\n",
        "def word_frequencies(word_list):\n",
        "    freq_dict = {}\n",
        "    for word in word_list:\n",
        "        if word in freq_dict:\n",
        "            freq_dict[word] += 1\n",
        "        else:\n",
        "            freq_dict[word] = 1\n",
        "    return freq_dict\n",
        "\n",
        "words = input(\"Enter a list of words (separated by spaces): \").split()\n",
        "frequencies = word_frequencies(words)\n",
        "print(\"Word frequencies:\", frequencies)"
      ]
    },
    {
      "cell_type": "code",
      "execution_count": 9,
      "metadata": {
        "id": "sZIEQv9R4tD5",
        "colab": {
          "base_uri": "https://localhost:8080/"
        },
        "outputId": "742a5ad7-d043-4d2e-815a-38e7809ec5d0"
      },
      "outputs": [
        {
          "output_type": "stream",
          "name": "stdout",
          "text": [
            "{'a': 10, 'b': 25, 'c': 45, 'd': 40}\n"
          ]
        }
      ],
      "source": [
        "#32.Write a code that takes two dictionaries as input and merges them into a single dictionary. If there are common keys, the values should be added together\n",
        "def merge_dicts(dict1, dict2):\n",
        "    merged_dict = dict1.copy()\n",
        "\n",
        "    for key, value in dict2.items():\n",
        "        if key in merged_dict:\n",
        "            merged_dict[key] += value\n",
        "        else:\n",
        "            merged_dict[key] = value\n",
        "\n",
        "    return merged_dict\n",
        "dict1 = {'a': 10, 'b': 20, 'c': 30}\n",
        "dict2 = {'b': 5, 'c': 15, 'd': 40}\n",
        "\n",
        "result = merge_dicts(dict1, dict2)\n",
        "print(result)"
      ]
    },
    {
      "cell_type": "code",
      "execution_count": 10,
      "metadata": {
        "id": "v6xgSKWN4tHO",
        "colab": {
          "base_uri": "https://localhost:8080/"
        },
        "outputId": "03411be1-d717-4162-8bda-9e095ea401b9"
      },
      "outputs": [
        {
          "output_type": "stream",
          "name": "stdout",
          "text": [
            "42\n",
            "None\n"
          ]
        }
      ],
      "source": [
        "#33.Write a code to access a value in a nested dictionary. The function should take the dictionary and a list of keys as input, and return the corresponding value. If any of the keys do not exist in the dictionary, the function should return None\n",
        "def get_value(d, keys):\n",
        "    for key in keys:\n",
        "        d = d.get(key)\n",
        "        if d is None:\n",
        "            return None\n",
        "    return d\n",
        "\n",
        "# Example usage:\n",
        "nested_dict = {'a': {'b': {'c': 42}}}\n",
        "\n",
        "keys_list = ['a', 'b', 'c']\n",
        "print(get_value(nested_dict, keys_list))\n",
        "\n",
        "keys_list = ['a', 'x', 'c']\n",
        "print(get_value(nested_dict, keys_list))"
      ]
    },
    {
      "cell_type": "code",
      "execution_count": 11,
      "metadata": {
        "id": "Arlephce4tL8",
        "colab": {
          "base_uri": "https://localhost:8080/"
        },
        "outputId": "1f3dc44f-142a-4f3e-c03e-813807ea4ba5"
      },
      "outputs": [
        {
          "output_type": "stream",
          "name": "stdout",
          "text": [
            "Ascending order: {'b': 1, 'c': 2, 'a': 3, 'd': 4}\n",
            "Descending order: {'d': 4, 'a': 3, 'c': 2, 'b': 1}\n"
          ]
        }
      ],
      "source": [
        "#34.Write a code that takes a dictionary as input and returns a sorted version of it based on the values. You can choose whether to sort in ascending or descending order\n",
        "def sort_dictionary_by_values(d, ascending=True):\n",
        "    sorted_dict = dict(sorted(d.items(), key=lambda item: item[1], reverse=not ascending))\n",
        "    return sorted_dict\n",
        "original_dict = {'a': 3, 'b': 1, 'c': 2, 'd': 4}\n",
        "\n",
        "sorted_dict_asc = sort_dictionary_by_values(original_dict, ascending=True)\n",
        "print(\"Ascending order:\", sorted_dict_asc)\n",
        "\n",
        "sorted_dict_desc = sort_dictionary_by_values(original_dict, ascending=False)\n",
        "print(\"Descending order:\", sorted_dict_desc)"
      ]
    },
    {
      "cell_type": "code",
      "source": [
        "#35.Write a code that inverts a dictionary, swapping keys and values. Ensure that the inverted dictionary correctly handles cases where multiple keys have the same value by storing the keys as a list in the inverted dictionary.\n",
        "def invert_dictionary(d):\n",
        "    inverted_dict = {}\n",
        "    for key, value in d.items():\n",
        "        if value in inverted_dict:\n",
        "            inverted_dict[value].append(key)\n",
        "        else:\n",
        "            inverted_dict[value] = [key]\n",
        "    return inverted_dict\n",
        "original_dict = {'a': 1, 'b': 2, 'c': 1, 'd': 3}\n",
        "inverted_dict = invert_dictionary(original_dict)\n",
        "print(inverted_dict)\n"
      ],
      "metadata": {
        "id": "e5cNyKOKY3L-",
        "colab": {
          "base_uri": "https://localhost:8080/"
        },
        "outputId": "9e31a457-9bf1-49a5-c981-d8716113aad1"
      },
      "execution_count": null,
      "outputs": [
        {
          "output_type": "stream",
          "name": "stdout",
          "text": [
            "{1: ['a', 'c'], 2: ['b'], 3: ['d']}\n"
          ]
        }
      ]
    }
  ],
  "metadata": {
    "colab": {
      "provenance": []
    },
    "kernelspec": {
      "display_name": "Python 3",
      "name": "python3"
    },
    "language_info": {
      "name": "python"
    }
  },
  "nbformat": 4,
  "nbformat_minor": 0
}